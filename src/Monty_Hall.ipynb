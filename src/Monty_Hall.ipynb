{
 "cells": [
  {
   "cell_type": "markdown",
   "metadata": {},
   "source": [
    "# Monty Hall Problem\n",
    "\n",
    "Monty Hall asks you to choose one of three doors. One of the doors hides a prize and the other two doors have no prize. You state out loud which door you pick, but you don’t open it right away.\n",
    "\n",
    "At this point, Monty will always opens one of the other two doors that does not have a prize behind it.\n",
    "\n",
    "At this moment, there are two closed doors, one of which you picked.\n",
    "\n",
    "The prize is behind one of the closed doors, but you don’t know which one\n",
    "\n",
    "Monty asks you, “Do you want to switch doors?”"
   ]
  },
  {
   "cell_type": "markdown",
   "metadata": {},
   "source": [
    "## Solution\n",
    "\n",
    "Let's consider the scenario where the first safe you chose contained the prize. This\n",
    "happens one time out of three. Monty can open either one of the two remaining safes. If\n",
    "you change your mind and switch safes, you'll come up empty-handed every time since\n",
    "the diamond was in the first safe.\n",
    "\n",
    "Now let's look at the case where you initially chose a safe without the prize, which\n",
    "happens two out of three times. Monty can only open one possible safe without\n",
    "revealing the diamond, this gives you an advantage. If you switch safes, you'll find the\n",
    "diamond every time As such, changing safes is the right move two out of three times."
   ]
  },
  {
   "cell_type": "markdown",
   "metadata": {},
   "source": []
  }
 ],
 "metadata": {
  "kernelspec": {
   "display_name": "Python 3 (ipykernel)",
   "language": "python",
   "name": "python3"
  },
  "language_info": {
   "codemirror_mode": {
    "name": "ipython",
    "version": 3
   },
   "file_extension": ".py",
   "mimetype": "text/x-python",
   "name": "python",
   "nbconvert_exporter": "python",
   "pygments_lexer": "ipython3",
   "version": "3.9.17"
  }
 },
 "nbformat": 4,
 "nbformat_minor": 2
}
