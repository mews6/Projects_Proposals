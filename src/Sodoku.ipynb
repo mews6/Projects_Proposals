{
 "cells": [
  {
   "cell_type": "markdown",
   "metadata": {},
   "source": [
    "## Solving Sudoku using Grover's Algorithm <a id=\"sudoku\"></a>\n",
    "\n",
    "We will now solve a simple problem using Grover's algorithm, for which we do not necessarily know the solution beforehand. Our problem is a 2×2 binary sudoku, which in our case has two simple rules:\n",
    "\n",
    "- No column may contain the same value twice\n",
    "- No row may contain the same value twice\n",
    "\n",
    "If we assign each square in our sudoku to a variable like so:\n",
    "\n",
    "![2×2 binary sudoku, with each square allocated to a different variable](images/binary_sudoku.png)\n",
    "\n",
    "we want our circuit to output a solution to this sudoku.\n",
    "\n",
    "Note that, while this approach of using Grover's algorithm to solve this problem is not practical (you can probably find the solution in your head!), the purpose of this example is to demonstrate the conversion of classical [decision problems](https://en.wikipedia.org/wiki/Decision_problem) into oracles for Grover's algorithm.\n",
    "\n",
    "### Turning the Problem into a Circuit\n",
    "\n",
    "We want to create an oracle that will help us solve this problem, and we will start by creating a circuit that identifies a correct solution, we simply need to create a _classical_ function on a quantum circuit that checks whether the state of our variable bits is a valid solution.\n",
    "\n",
    "Since we need to check down both columns and across both rows, there are 4 conditions we need to check:\n",
    "\n",
    "```\n",
    "v0 ≠ v1   # check along top row\n",
    "v2 ≠ v3   # check along bottom row\n",
    "v0 ≠ v2   # check down left column\n",
    "v1 ≠ v3   # check down right column\n",
    "```"
   ]
  },
  {
   "cell_type": "markdown",
   "metadata": {},
   "source": [
    "1. Create a reversible classical circuit that identifies a correct solution\n",
    "2. Turn this circuit into an oracle\n",
    "3. Use Grover's algorithm to solve this oracle\n",
    "\n"
   ]
  },
  {
   "cell_type": "markdown",
   "metadata": {},
   "source": []
  }
 ],
 "metadata": {
  "kernelspec": {
   "display_name": "Python 3 (ipykernel)",
   "language": "python",
   "name": "python3"
  },
  "language_info": {
   "codemirror_mode": {
    "name": "ipython",
    "version": 3
   },
   "file_extension": ".py",
   "mimetype": "text/x-python",
   "name": "python",
   "nbconvert_exporter": "python",
   "pygments_lexer": "ipython3",
   "version": "3.9.17"
  }
 },
 "nbformat": 4,
 "nbformat_minor": 2
}
